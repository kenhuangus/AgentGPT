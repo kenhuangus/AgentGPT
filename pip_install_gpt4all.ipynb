{
  "nbformat": 4,
  "nbformat_minor": 0,
  "metadata": {
    "colab": {
      "provenance": [],
      "include_colab_link": true
    },
    "kernelspec": {
      "name": "python3",
      "display_name": "Python 3"
    },
    "language_info": {
      "name": "python"
    }
  },
  "cells": [
    {
      "cell_type": "markdown",
      "metadata": {
        "id": "view-in-github",
        "colab_type": "text"
      },
      "source": [
        "<a href=\"https://colab.research.google.com/github/kenhuangus/AgentGPT/blob/main/pip_install_gpt4all.ipynb\" target=\"_parent\"><img src=\"https://colab.research.google.com/assets/colab-badge.svg\" alt=\"Open In Colab\"/></a>"
      ]
    },
    {
      "cell_type": "code",
      "execution_count": 1,
      "metadata": {
        "id": "akfdz3vKbFGg",
        "colab": {
          "base_uri": "https://localhost:8080/"
        },
        "outputId": "f92b850b-5c3d-4ee3-8bb0-bed51b4b104d"
      },
      "outputs": [
        {
          "output_type": "stream",
          "name": "stdout",
          "text": [
            "Looking in indexes: https://pypi.org/simple, https://us-python.pkg.dev/colab-wheels/public/simple/\n",
            "Collecting gpt4all\n",
            "  Downloading gpt4all-0.2.1-py3-none-manylinux1_x86_64.whl (335 kB)\n",
            "\u001b[2K     \u001b[90m━━━━━━━━━━━━━━━━━━━━━━━━━━━━━━━━━━━━━━\u001b[0m \u001b[32m335.2/335.2 kB\u001b[0m \u001b[31m14.2 MB/s\u001b[0m eta \u001b[36m0:00:00\u001b[0m\n",
            "\u001b[?25hRequirement already satisfied: requests in /usr/local/lib/python3.10/dist-packages (from gpt4all) (2.27.1)\n",
            "Requirement already satisfied: tqdm in /usr/local/lib/python3.10/dist-packages (from gpt4all) (4.65.0)\n",
            "Requirement already satisfied: urllib3<1.27,>=1.21.1 in /usr/local/lib/python3.10/dist-packages (from requests->gpt4all) (1.26.15)\n",
            "Requirement already satisfied: certifi>=2017.4.17 in /usr/local/lib/python3.10/dist-packages (from requests->gpt4all) (2022.12.7)\n",
            "Requirement already satisfied: charset-normalizer~=2.0.0 in /usr/local/lib/python3.10/dist-packages (from requests->gpt4all) (2.0.12)\n",
            "Requirement already satisfied: idna<4,>=2.5 in /usr/local/lib/python3.10/dist-packages (from requests->gpt4all) (3.4)\n",
            "Installing collected packages: gpt4all\n",
            "Successfully installed gpt4all-0.2.1\n"
          ]
        }
      ],
      "source": [
        "!pip install gpt4all"
      ]
    },
    {
      "cell_type": "code",
      "source": [
        "import gpt4all"
      ],
      "metadata": {
        "id": "Mvj-7_EsI_mH"
      },
      "execution_count": 2,
      "outputs": []
    },
    {
      "cell_type": "code",
      "source": [
        "# Run model on prompt\n",
        "messages = [{\"role\": \"user\", \"content\": \"Name 3 colors\"}]\n",
        "response = gptj.chat_completion(messages)\n",
        "\n",
        "response"
      ],
      "metadata": {
        "id": "ZK4Ok4SvJEp8"
      },
      "execution_count": null,
      "outputs": []
    },
    {
      "cell_type": "code",
      "source": [
        "# Retrieve model\n",
        "gptj = gpt4all.GPT4All(\"ggml-gpt4all-j-v1.3-groovy.bin\")"
      ],
      "metadata": {
        "id": "nTljphBfbJu4",
        "colab": {
          "base_uri": "https://localhost:8080/"
        },
        "outputId": "dc5eecf9-b734-4735-cdc0-2c8c5854d481"
      },
      "execution_count": 3,
      "outputs": [
        {
          "output_type": "stream",
          "name": "stderr",
          "text": [
            "100%|██████████| 3.79G/3.79G [01:10<00:00, 54.0MiB/s]\n"
          ]
        },
        {
          "output_type": "stream",
          "name": "stdout",
          "text": [
            "Model downloaded at: /root/.cache/gpt4all/ggml-gpt4all-j-v1.3-groovy.bin\n"
          ]
        }
      ]
    },
    {
      "cell_type": "code",
      "source": [
        "# You can run raw generate as well on your input. But performance will degrade.\n",
        "gptj.generate('security concerns for LLMs')"
      ],
      "metadata": {
        "id": "QyzPZx5_bZaC",
        "colab": {
          "base_uri": "https://localhost:8080/",
          "height": 90
        },
        "outputId": "b4fa3639-3bd7-4456-94f5-355b33a4a55d"
      },
      "execution_count": 4,
      "outputs": [
        {
          "output_type": "execute_result",
          "data": {
            "text/plain": [
              "\"There are several security risks that may be associated with using an LMS (Learning Management System) in a corporate setting. Here is some information on these potential threats:\\n\\n\\n\\n* Malware and Trojan horses - An attacker could create malware or use existing software to infect the system, which would allow them access to sensitive data stored within the LMS. This type of attack can compromise user accounts and cause significant damage to both individuals and organizations.\\n\\n* Data breaches - If someone gains unauthorized access to your organization's network, it is possible that this person will also gain access to the LMS server where confidential files such as financial records,\""
            ],
            "application/vnd.google.colaboratory.intrinsic+json": {
              "type": "string"
            }
          },
          "metadata": {},
          "execution_count": 4
        }
      ]
    }
  ]
}